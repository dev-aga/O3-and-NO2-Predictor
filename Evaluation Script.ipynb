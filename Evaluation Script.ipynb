{
  "cells": [
    {
      "cell_type": "code",
      "execution_count": 63,
      "metadata": {
        "id": "FTY1xcLbZrtp"
      },
      "outputs": [],
      "source": [
        "from submit import my_predict\n",
        "import numpy as np\n",
        "import pandas as pd\n",
        "import time as tm\n",
        "import os"
      ]
    },
    {
      "cell_type": "code",
      "execution_count": 64,
      "metadata": {
        "id": "TSa-d6ZXZz4G"
      },
      "outputs": [
        {
          "name": "stdout",
          "output_type": "stream",
          "text": [
            "The autoreload extension is already loaded. To reload it, use:\n",
            "  %reload_ext autoreload\n"
          ]
        }
      ],
      "source": [
        "%load_ext autoreload\n",
        "%autoreload 2"
      ]
    },
    {
      "cell_type": "code",
      "execution_count": 65,
      "metadata": {
        "colab": {
          "base_uri": "https://localhost:8080/"
        },
        "id": "wXxob63qZ0nJ",
        "outputId": "72d551e2-b0df-45ee-8c14-d7d8d0045c08"
      },
      "outputs": [],
      "source": [
        "df_test = pd.read_csv( \"train.csv\" )\n",
        "\n",
        "n_trials = 5\n",
        "t_test = 0\n",
        "\n",
        "for t in range( n_trials ):\n",
        "  tic = tm.perf_counter()\n",
        "  df_feat = df_test.drop( [ \"OZONE\", \"NO2\" ], axis = \"columns\" )\n",
        "  ( pred_o3, pred_no2 ) = my_predict( df_feat )\n",
        "  toc = tm.perf_counter()\n",
        "  t_test += toc - tic\n",
        "\n",
        "t_test /= n_trials"
      ]
    },
    {
      "cell_type": "code",
      "execution_count": 66,
      "metadata": {
        "colab": {
          "base_uri": "https://localhost:8080/"
        },
        "id": "qtKmkybMbrvu",
        "outputId": "4205d354-a294-4143-d113-cc42a7fcb429"
      },
      "outputs": [
        {
          "name": "stdout",
          "output_type": "stream",
          "text": [
            "0.6032756200176663 3.13231225 2.60251878\n"
          ]
        }
      ],
      "source": [
        "gold_o3 = df_test[ \"OZONE\" ].to_numpy()\n",
        "gold_no2 = df_test[ \"NO2\" ].to_numpy()\n",
        "\n",
        "mae_o3 = np.mean( np.abs( pred_o3 - gold_o3 ) )\n",
        "mae_no2 = np.mean( np.abs( pred_no2 - gold_no2 ) )\n",
        "\n",
        "print( t_test, mae_o3, mae_no2 )"
      ]
    }
  ],
  "metadata": {
    "colab": {
      "provenance": []
    },
    "kernelspec": {
      "display_name": "Python 3",
      "name": "python3"
    },
    "language_info": {
      "codemirror_mode": {
        "name": "ipython",
        "version": 3
      },
      "file_extension": ".py",
      "mimetype": "text/x-python",
      "name": "python",
      "nbconvert_exporter": "python",
      "pygments_lexer": "ipython3",
      "version": "3.10.11"
    }
  },
  "nbformat": 4,
  "nbformat_minor": 0
}
