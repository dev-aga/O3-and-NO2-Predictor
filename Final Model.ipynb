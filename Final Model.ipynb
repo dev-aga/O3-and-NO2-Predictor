{
 "cells": [
  {
   "cell_type": "code",
   "execution_count": 332,
   "metadata": {},
   "outputs": [],
   "source": [
    "import numpy as np\n",
    "import pickle\n",
    "import pandas as pd\n",
    "from sklearn.svm import LinearSVR\n",
    "from sklearn.linear_model import LinearRegression\n",
    "from sklearn.linear_model import LogisticRegression\n",
    "from sklearn.linear_model import Ridge\n",
    "from sklearn.linear_model import ElasticNet\n",
    "from sklearn.neighbors import KNeighborsRegressor\n",
    "from sklearn.tree import DecisionTreeRegressor\n",
    "from sklearn.ensemble import RandomForestRegressor\n",
    "from sklearn.neural_network import MLPRegressor\n",
    "from sklearn.metrics import r2_score\n",
    "from sklearn.metrics import mean_absolute_error as mae\n",
    "from sklearn.model_selection import train_test_split\n",
    "\n",
    "np.set_printoptions(threshold=np.inf)\n",
    "# Define your prediction method here\n",
    "# df is a dataframe containing timestamps, weather data and potentials"
   ]
  },
  {
   "cell_type": "code",
   "execution_count": 333,
   "metadata": {},
   "outputs": [
    {
     "name": "stdout",
     "output_type": "stream",
     "text": [
      "The autoreload extension is already loaded. To reload it, use:\n",
      "  %reload_ext autoreload\n"
     ]
    }
   ],
   "source": [
    "%load_ext autoreload\n",
    "%autoreload 2"
   ]
  },
  {
   "cell_type": "code",
   "execution_count": 334,
   "metadata": {},
   "outputs": [],
   "source": [
    "# df=pd.read_csv(\"train.csv\")\n",
    "# train_data,test_data=train_test_split(df, shuffle=True)\n",
    "# # train_data,test_data=df, df\n",
    "\n",
    "# model1 = LinearRegression()\n",
    "# model2 = LinearRegression()\n",
    "\n",
    "# model1.fit(train_data[[\"no2op1\", \"no2op2\", \"o3op1\", \"o3op2\"]], train_data[\"OZONE\"])\n",
    "\n",
    "# model2.fit(train_data[[\"no2op1\", \"no2op2\", \"o3op1\", \"o3op2\"]], train_data[\"NO2\"])\n",
    "\n",
    "# pred_o3=model1.predict(test_data[[\"no2op1\", \"no2op2\", \"o3op1\", \"o3op2\"]])\n",
    "# pred_no2=model2.predict(test_data[[\"no2op1\", \"no2op2\", \"o3op1\", \"o3op2\"]])"
   ]
  },
  {
   "cell_type": "code",
   "execution_count": 335,
   "metadata": {},
   "outputs": [],
   "source": [
    "\n",
    "# pred_o3=model1.predict(test_data[[\"no2op1\", \"no2op2\", \"o3op1\", \"o3op2\"]])\n",
    "# pred_no2=model2.predict(test_data[[\"no2op1\", \"no2op2\", \"o3op1\", \"o3op2\"]])"
   ]
  },
  {
   "cell_type": "code",
   "execution_count": 336,
   "metadata": {},
   "outputs": [],
   "source": [
    "df=pd.read_csv(\"train.csv\")\n",
    "# train_data,test_data=train_test_split(df, shuffle=True)\n",
    "train_data=df.sample(frac=1)\n",
    "test_data=pd.read_csv(\"train.csv\")\n",
    "#train_data,test_data=df, pd.read_csv(\"dummy_test.csv\")\n",
    "\n",
    "model1 = KNeighborsRegressor(n_neighbors=5)\n",
    "model2 = KNeighborsRegressor(n_neighbors=5)\n",
    "# model1 = DecisionTreeRegressor()\n",
    "# model2 = DecisionTreeRegressor()\n",
    "\n",
    "model1.fit(train_data[[\"temp\", \"humidity\", \"no2op1\", \"no2op2\", \"o3op1\", \"o3op2\"]], train_data[\"OZONE\"])\n",
    "\n",
    "model2.fit(train_data[[\"temp\", \"humidity\", \"no2op1\", \"no2op2\", \"o3op1\", \"o3op2\"]], train_data[\"NO2\"])\n",
    "\n",
    "pred_o3=model1.predict(test_data[[\"temp\", \"humidity\", \"no2op1\", \"no2op2\", \"o3op1\", \"o3op2\"]])\n",
    "pred_no2=model2.predict(test_data[[\"temp\", \"humidity\", \"no2op1\", \"no2op2\", \"o3op1\", \"o3op2\"]])\n"
   ]
  },
  {
   "cell_type": "code",
   "execution_count": 337,
   "metadata": {},
   "outputs": [],
   "source": [
    "\n",
    "pred_o3=model1.predict(test_data[[\"temp\", \"humidity\", \"no2op1\", \"no2op2\", \"o3op1\", \"o3op2\"]])\n",
    "pred_no2=model2.predict(test_data[[\"temp\", \"humidity\", \"no2op1\", \"no2op2\", \"o3op1\", \"o3op2\"]])\n"
   ]
  },
  {
   "cell_type": "code",
   "execution_count": 338,
   "metadata": {},
   "outputs": [
    {
     "name": "stdout",
     "output_type": "stream",
     "text": [
      "3.13231225 2.60251878\n",
      "0.9386891557747835\n",
      "0.8298031506103788\n"
     ]
    }
   ],
   "source": [
    "mae_o3=mae(pred_o3, test_data[\"OZONE\"])\n",
    "mae_no2=mae(pred_no2, test_data[\"NO2\"])\n",
    "\n",
    "print(mae_o3, mae_no2)\n",
    "print(r2_score(test_data[\"OZONE\"],pred_o3))\n",
    "print(r2_score(test_data[\"NO2\"],pred_no2))"
   ]
  },
  {
   "cell_type": "code",
   "execution_count": 339,
   "metadata": {},
   "outputs": [],
   "source": [
    "with open( f\"model_dump_o3.pkl\", \"wb\" ) as outfile:\n",
    "\t\tpickle.dump( model1, outfile, protocol=pickle.HIGHEST_PROTOCOL )\n",
    "with open( f\"model_dump_no2.pkl\", \"wb\" ) as outfile:\n",
    "\t\tpickle.dump( model2, outfile, protocol=pickle.HIGHEST_PROTOCOL )"
   ]
  }
 ],
 "metadata": {
  "kernelspec": {
   "display_name": "Python 3",
   "language": "python",
   "name": "python3"
  },
  "language_info": {
   "codemirror_mode": {
    "name": "ipython",
    "version": 3
   },
   "file_extension": ".py",
   "mimetype": "text/x-python",
   "name": "python",
   "nbconvert_exporter": "python",
   "pygments_lexer": "ipython3",
   "version": "3.10.11"
  },
  "orig_nbformat": 4
 },
 "nbformat": 4,
 "nbformat_minor": 2
}
